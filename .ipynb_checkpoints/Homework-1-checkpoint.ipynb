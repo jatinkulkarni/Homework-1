{
 "cells": [
  {
   "cell_type": "markdown",
   "metadata": {},
   "source": [
    "<p class='notebook_header'><b>CS 309 - Robot Learning</b></p>\n",
    "<p class='notebook_header'>Homework 1</p>\n",
    "<hr class='separate' />"
   ]
  },
  {
   "cell_type": "markdown",
   "metadata": {},
   "source": [
    "<p class='section_header'><b>Part 1: Linear Algebra</b></p>"
   ]
  },
  {
   "cell_type": "markdown",
   "metadata": {},
   "source": [
    "Implement the following matrix/vector functions using NumPy operations.\n",
    "\n",
    "If the function's operation isn't possible for matrix or vector inputs, return None."
   ]
  },
  {
   "cell_type": "code",
   "execution_count": 1,
   "metadata": {},
   "outputs": [],
   "source": [
    "#team members: Kevin Wang, Jatin Kulkarni\n",
    "import numpy as np"
   ]
  },
  {
   "cell_type": "code",
   "execution_count": 2,
   "metadata": {},
   "outputs": [],
   "source": [
    "def add(a, b):\n",
    "    if(a.shape != b.shape):\n",
    "        return None;\n",
    "    return a + b;\n",
    "\n",
    "def subtract(a, b):\n",
    "    if(a.shape != b.shape):\n",
    "        return None;\n",
    "    return a - b;\n",
    "\n",
    "def multiply(a, b):\n",
    "    a_rows, a_cols = a.shape\n",
    "    b_rows, b_cols = b.shape\n",
    "    if(a_cols == b_rows):\n",
    "        return np.dot(a, b)\n",
    "    #inner product\n",
    "#     elif(a_rows == b_rows):\n",
    "#         return np.dot(a.T, b)\n",
    "    else:\n",
    "#         print(\"\\nInvalid Multiplication with: a= \\n\",a , \"\\nand b = \\n\", b)\n",
    "        return None\n",
    "    \n",
    "def divide(a, b):\n",
    "    a_rows, a_cols = a.shape\n",
    "    b_rows, b_cols = b.shape\n",
    "    if(b_rows != b_cols):\n",
    "        return None\n",
    "    if(a_cols == b_rows):\n",
    "        return np.dot(a, np.linalg.inv(b))\n",
    "#     elif(a_rows == b_rows):\n",
    "#         return np.dot(a.T, np.linalg.inv(b))\n",
    " \n",
    "    return None\n",
    "\n",
    "def transpose(a):\n",
    "    return a.T\n",
    "\n",
    "def two_norm(a):\n",
    "    return np.linalg.norm(a)\n",
    "\n",
    "def inverse(a):\n",
    "    return np.linalg.inv(a)\n",
    "\n",
    "#question:\n",
    "# Should we use use np?\n",
    "# How should we find the error- asr?\n",
    "#getting diff val using diff funct \n",
    "# what's the range for asr should it be between 0 and 1\n",
    "# Lasso, Elastic "
   ]
  },
  {
   "cell_type": "markdown",
   "metadata": {},
   "source": [
    "<p>Using your code from above, solve the following equations. If an operation isn't possible, put None or comment with \"Not Possible\".</p>"
   ]
  },
  {
   "cell_type": "markdown",
   "metadata": {},
   "source": [
    "$$\n",
    "u = \\begin{bmatrix} 2 \\\\ 3 \\\\ 9 \\end{bmatrix}, \\:\n",
    "v = \\begin{bmatrix} -2 \\\\ 1 \\\\ 8 \\end{bmatrix}\n",
    "$$  \n"
   ]
  },
  {
   "cell_type": "code",
   "execution_count": 3,
   "metadata": {},
   "outputs": [],
   "source": [
    "u = np.array([\n",
    "    [2],\n",
    "    [3],\n",
    "    [9]\n",
    "])\n",
    "\n",
    "v = np.array([\n",
    "    [-2],\n",
    "    [1],\n",
    "    [8]\n",
    "])"
   ]
  },
  {
   "cell_type": "markdown",
   "metadata": {},
   "source": [
    "$$ u + v = \\begin{bmatrix} 0\\\\4\\\\17 \\end{bmatrix} $$  \n",
    "\n",
    "$$ u - v = \\begin{bmatrix} 4\\\\2\\\\1 \\end{bmatrix} $$  \n",
    "\n",
    "$$ u * v = \\begin{bmatrix} ? \\end{bmatrix} $$  \n",
    "\n",
    "$$ u \\div v = \\begin{bmatrix} ? \\end{bmatrix} $$  \n"
   ]
  },
  {
   "cell_type": "code",
   "execution_count": 4,
   "metadata": {},
   "outputs": [
    {
     "name": "stdout",
     "output_type": "stream",
     "text": [
      "[[ 0]\n",
      " [ 4]\n",
      " [17]]\n",
      "[[4]\n",
      " [2]\n",
      " [1]]\n",
      "None\n",
      "None\n"
     ]
    }
   ],
   "source": [
    "# YOUR CODE HERE\n",
    "\n",
    "u_plus_v = add(u, v)\n",
    "print(u_plus_v)\n",
    "\n",
    "u_minus_v = subtract(u, v)\n",
    "print(u_minus_v)\n",
    "\n",
    "u_mult_v = multiply(u, v)\n",
    "print(u_mult_v)\n",
    "\n",
    "u_div_v = divide(u, v)\n",
    "print(u_div_v)\n"
   ]
  },
  {
   "cell_type": "markdown",
   "metadata": {},
   "source": [
    "$$ u^{\\;T} * v = \\; \\begin{bmatrix} 71 \\end{bmatrix} $$  \n",
    "\n",
    "$$ u * v^{\\;T} = \\begin{bmatrix} -4 & 2 & 16\\\\ -6 & 3 & 24\\\\ -18 & 9 & 72 \\end{bmatrix} $$  \n",
    "\n",
    "$$ u^{\\;T} * u = \\; \\begin{bmatrix} 94 \\end{bmatrix} $$  \n",
    "\n",
    "$$ \\left \\| u \\right \\|_{2}^{2} = 9.695359714832659 $$  \n"
   ]
  },
  {
   "cell_type": "code",
   "execution_count": 5,
   "metadata": {},
   "outputs": [
    {
     "name": "stdout",
     "output_type": "stream",
     "text": [
      "[[71]]\n",
      "[[ -4   2  16]\n",
      " [ -6   3  24]\n",
      " [-18   9  72]]\n",
      "[[94]]\n",
      "9.695359714832659\n"
     ]
    }
   ],
   "source": [
    "# YOUR CODE HERE\n",
    "\n",
    "u_transpose_v = multiply(transpose(u), v)\n",
    "print(u_transpose_v)\n",
    "\n",
    "u_v_transpose = multiply(u, transpose(v))\n",
    "print(u_v_transpose)\n",
    "\n",
    "u_transpose_u = multiply(transpose(u), u)\n",
    "print(u_transpose_u)\n",
    "\n",
    "two_norm_u = two_norm(u)\n",
    "print(two_norm_u)"
   ]
  },
  {
   "cell_type": "markdown",
   "metadata": {},
   "source": [
    "<hr class='light-separate' />"
   ]
  },
  {
   "cell_type": "markdown",
   "metadata": {},
   "source": [
    "$$\n",
    "A = \\begin{bmatrix} 1 & 6 & 5\\\\ 0 & -4 & -1\\\\ 7 & 2 & 3 \\end{bmatrix}, \\: \n",
    "B = \\begin{bmatrix} 3 & 1 & 1\\\\ 4 & -1 & 7\\\\ 7 & 0 & 0 \\end{bmatrix}\n",
    "$$  \n"
   ]
  },
  {
   "cell_type": "markdown",
   "metadata": {},
   "source": [
    "$$ A + B = \\begin{bmatrix} 4 & 7 & 6\\\\ 4 & -5 & 6\\\\ 14 & 2 & 3 \\end{bmatrix} $$  \n",
    "\n",
    "$$ A - B = \\begin{bmatrix} -2 & 5 & 4\\\\ -4 & -3 & -8\\\\ 0 & 2 & 3 \\end{bmatrix} $$  \n",
    "\n",
    "$$ A * B = \\begin{bmatrix} 62 & -5 & 4\\\\ -23 & 4 & -28\\\\ 50 & 5 & 21 \\end{bmatrix} $$  \n",
    "\n",
    "$$ A \\div B = \\begin{bmatrix} 5.875 & -0.125 & -2.30357143\\\\ -3.625 & 0.375 & 1.33928571\\\\ 2.125 & 0.125 & 0.01785714 \\end{bmatrix} $$  \n"
   ]
  },
  {
   "cell_type": "code",
   "execution_count": 6,
   "metadata": {},
   "outputs": [],
   "source": [
    "A = np.array([\n",
    "    [1, 6, 5],\n",
    "    [0, -4, -1],\n",
    "    [7, 2, 3]\n",
    "])\n",
    "\n",
    "B = np.array([\n",
    "    [3, 1, 1],\n",
    "    [4, -1, 7],\n",
    "    [7, 0, 0]\n",
    "])"
   ]
  },
  {
   "cell_type": "code",
   "execution_count": 7,
   "metadata": {},
   "outputs": [
    {
     "name": "stdout",
     "output_type": "stream",
     "text": [
      "\n",
      "a_plus_b\n",
      " [[ 4  7  6]\n",
      " [ 4 -5  6]\n",
      " [14  2  3]] \n",
      "a_minus_b\n",
      " [[-2  5  4]\n",
      " [-4 -3 -8]\n",
      " [ 0  2  3]] \n",
      "a_mult_b\n",
      " [[ 62  -5  43]\n",
      " [-23   4 -28]\n",
      " [ 50   5  21]] \n",
      "a_div_b\n",
      " [[ 5.875      -0.125      -2.30357143]\n",
      " [-3.625       0.375       1.33928571]\n",
      " [ 2.125       0.125       0.01785714]]\n"
     ]
    }
   ],
   "source": [
    "# YOUR CODE HERE\n",
    "\n",
    "a_plus_b = add(A, B)\n",
    "\n",
    "a_minus_b = subtract(A, B)\n",
    "\n",
    "a_mult_b = multiply(A, B)\n",
    "\n",
    "a_div_b = divide(A, B)\n",
    "\n",
    "print(\"\\na_plus_b\\n\", a_plus_b, \"\\na_minus_b\\n\", a_minus_b, \"\\na_mult_b\\n\", a_mult_b, \"\\na_div_b\\n\", a_div_b)"
   ]
  },
  {
   "cell_type": "markdown",
   "metadata": {},
   "source": [
    "<hr class='light-separate' />"
   ]
  },
  {
   "cell_type": "markdown",
   "metadata": {},
   "source": [
    "$$\n",
    "C = \\begin{bmatrix} 5 & 1 \\\\ -1 & 7 \\\\ 3 & 0 \\end{bmatrix}\n",
    "$$  \n"
   ]
  },
  {
   "cell_type": "code",
   "execution_count": 8,
   "metadata": {},
   "outputs": [],
   "source": [
    "c = np.array([[5, 1],\n",
    "              [-1, 7],\n",
    "              [3, 0]])"
   ]
  },
  {
   "cell_type": "markdown",
   "metadata": {},
   "source": [
    "Right Pseudo Inverse of C:\n",
    "$$\n",
    "\\begin{bmatrix} 0. & -0.0625 & 0.5\\\\ 0.0625 & 0.125 & 0.125 \\end{bmatrix}\n",
    "$$  \n",
    "\n",
    "Left Pseudo Inverse of C:\n",
    "$$\n",
    "\\begin{bmatrix} 0.1443299 & -0.02061856 & 0.08591065\\\\ 0.0257732 & 0.13917526 & 0.00343643 \\end{bmatrix}\n",
    "$$  \n"
   ]
  },
  {
   "cell_type": "code",
   "execution_count": 9,
   "metadata": {},
   "outputs": [
    {
     "name": "stdout",
     "output_type": "stream",
     "text": [
      "right_pinv [[ 0.     -0.0625  0.5   ]\n",
      " [ 0.0625  0.125   0.125 ]]\n",
      "left_pinv [[ 0.1443299  -0.02061856  0.08591065]\n",
      " [ 0.0257732   0.13917526  0.00343643]]\n"
     ]
    }
   ],
   "source": [
    "# YOUR CODE HERE\n",
    "\n",
    "right_pinv = multiply(transpose(c), inverse(multiply(c,transpose(c))))\n",
    "\n",
    "left_pinv = multiply(inverse(multiply(transpose(c), c)),transpose(c))\n",
    "\n",
    "print(\"right_pinv\", right_pinv)\n",
    "print(\"left_pinv\", left_pinv)"
   ]
  },
  {
   "cell_type": "markdown",
   "metadata": {},
   "source": [
    "<hr class='separate' />"
   ]
  },
  {
   "cell_type": "markdown",
   "metadata": {},
   "source": [
    "<p class='section_header'><b>Part 2: Regression</b></p>"
   ]
  },
  {
   "cell_type": "markdown",
   "metadata": {},
   "source": [
    "**Write** the equation for Ordinary Least Squares below. \n",
    "\n",
    "$$ \\theta = (\\Phi^{T}\\Phi)^{-1}\\Phi^{T}y $$"
   ]
  },
  {
   "cell_type": "markdown",
   "metadata": {},
   "source": [
    "**Explain** Ordinary Least Squares in terms of what it optimizes.\n",
    "\n",
    "**Ordinary Least Squares optimizes the parameters in a linear regression to have the lowest sum of all the sqaures of the difference in actual versus expected)**"
   ]
  },
  {
   "cell_type": "code",
   "execution_count": 10,
   "metadata": {
    "scrolled": true
   },
   "outputs": [],
   "source": [
    "# Don't change this cell!\n",
    "# Load in the data about the study on students\n",
    "train = np.loadtxt('train.csv', delimiter=',')\n",
    "x_0, x_1, x_2, y = train.T\n",
    "X_train = np.array([x_0, x_1, x_2]).T\n",
    "Y_train = np.expand_dims(y, 1)\n",
    "\n",
    "test = np.loadtxt('test.csv', delimiter=',')\n",
    "x_0, x_1, x_2, y = test.T\n",
    "X_test = np.array([x_0, x_1, x_2]).T\n",
    "Y_test = np.expand_dims(y, 1)"
   ]
  },
  {
   "cell_type": "markdown",
   "metadata": {},
   "source": [
    "There was an imaginary study done on 101 students at Crest University. The study surveyed students for the amount they have spent on electronics, books, pencils, and foods. "
   ]
  },
  {
   "cell_type": "markdown",
   "metadata": {},
   "source": [
    "Given that the **amount students spend on electronics ($Y$)** is linearly related to the **amount they spend on books ($ X_{0} $), pencils ($ X_{1}$)**, and **food ($ X_{2}$)**, \n",
    "**implement** the Ordinary Least Squares method to model this regression problem.\n",
    "\n",
    "The data is read in from the previous cell code. **X_train** has the input features, while **Y_train** has corresponding target outputs.\n",
    "\n",
    "After finding a solution, try to measure the error between your predictions and the ground truth. "
   ]
  },
  {
   "cell_type": "code",
   "execution_count": 11,
   "metadata": {},
   "outputs": [],
   "source": [
    "##delete\n",
    "def plot_diff_unit(ax, d1, d2, c1=None, c2=None, c0=None, lstyle=None, m1style=None, m2style=None, label1=None, label2=None, names=None, kw0=None, kw1=None, kw2=None):\n",
    "    \n",
    "    \n",
    "    if kw0 is None:\n",
    "        kw0 = {}\n",
    "    \n",
    "    if kw1 is None:\n",
    "        kw1 = {}\n",
    "        \n",
    "    if kw2 is None:\n",
    "        kw2 = {}\n",
    "    \n",
    "    if c1 is None:\n",
    "        c1 = 'g'\n",
    "        \n",
    "    if c2 is None:\n",
    "        c2 = 'r'\n",
    "        \n",
    "    if c0 is None:\n",
    "        c0 = c2\n",
    "    \n",
    "    if lstyle is None:\n",
    "        lstyle='-'\n",
    "        \n",
    "    if m1style is None:\n",
    "        m1style='.'\n",
    "        \n",
    "    if m2style is None:\n",
    "        m2style=m1style\n",
    "    \n",
    "    kw0['color'] = c0\n",
    "    kw0['marker'] = ''\n",
    "    kw0['linestyle'] = lstyle\n",
    "    \n",
    "    kw1['color'] = c1\n",
    "    kw1['linestyle'] = ''\n",
    "    kw1['marker'] = m1style\n",
    "        \n",
    "    if label1 is not None:\n",
    "        kw1['label'] = label1\n",
    "    \n",
    "    kw2['color'] = c2\n",
    "    kw2['linestyle'] = ''\n",
    "    kw2['marker'] = m2style\n",
    "        \n",
    "    if label2 is not None:\n",
    "        kw2['label'] = label2\n",
    "    \n",
    "    \n",
    "    \n",
    "    ax.plot(np.squeeze([d1, d2]), [np.arange(len(d1)),np.arange(len(d2))], **kw0)\n",
    "    ax.plot(d1, np.arange(len(d1)), **kw1)\n",
    "    ax.plot(d2, np.arange(len(d2)), **kw2)\n",
    "    if len(d1) <= 20:\n",
    "        ticks = np.arange(len(d1))\n",
    "    else:\n",
    "        ticks = np.linspace(0, len(d1)//10*10, 11, dtype=np.int)\n",
    "        if ticks[-1] == len(d1):\n",
    "            pass\n",
    "        elif len(d1)-ticks[-1] <= (ticks[-1]-ticks[-2])/2:\n",
    "            ticks[-1] = len(d1)\n",
    "        else:\n",
    "            ticks = np.concatenate((ticks,[len(d1)]))\n",
    "    \n",
    "    ax.set_yticks(ticks,minor=False)\n",
    "    ax.grid(True,'major')\n",
    "    \n",
    "    if names is not None:\n",
    "        print(ticks)\n",
    "        ax.set_yticklabels([names[tick] for tick in ticks],minor=False)\n",
    "        \n",
    "\n",
    "    ax.invert_yaxis()\n"
   ]
  },
  {
   "cell_type": "code",
   "execution_count": 12,
   "metadata": {},
   "outputs": [],
   "source": [
    "def plot_XY_graph(X, Y, Y_hat):\n",
    "    plt.scatter(X[:,0],Y)\n",
    "    plt.scatter(X[:,0],Y_hat, s = 3,color=(1.0,0.0,0.0))\n",
    "    plt.xlabel('X')\n",
    "    plt.ylabel('y')\n",
    "    plt.legend(('y','y_hat'))\n",
    "    plt.show()"
   ]
  },
  {
   "cell_type": "code",
   "execution_count": 13,
   "metadata": {},
   "outputs": [
    {
     "data": {
      "image/png": "[encoded data removed]",
      "text/plain": [
       "<Figure size 432x288 with 1 Axes>"
      ]
     },
     "metadata": {
      "needs_background": "light"
     },
     "output_type": "display_data"
    },
    {
     "name": "stdout",
     "output_type": "stream",
     "text": [
      "\n",
      "asr:\n",
      " 22.777718330531737\n"
     ]
    },
    {
     "data": {
      "image/png": "[encoded data removed]",
      "text/plain": [
       "<Figure size 432x288 with 1 Axes>"
      ]
     },
     "metadata": {
      "needs_background": "light"
     },
     "output_type": "display_data"
    },
    {
     "name": "stdout",
     "output_type": "stream",
     "text": [
      "\n",
      "asr:\n",
      " 24.011451801001712\n"
     ]
    }
   ],
   "source": [
    "# TODO: Create code for OLS here. DO NOT use any other libraries in your first implementation.\n",
    "# TODO: Plot your regression line over the input points.\n",
    "import matplotlib.pyplot as plt\n",
    "\n",
    "def OLS(X, y):\n",
    "    return np.linalg.solve(np.dot(X.T, X), np.dot(X.T,y))\n",
    "\n",
    "# TODO: check against training data\n",
    "\n",
    "theta = OLS(X_train,Y_train)\n",
    "Y_train_hat = np.dot(X_train, theta)\n",
    "plot_XY_graph(X_train, Y_train, Y_train_hat)\n",
    "\n",
    "#find Mean Square Error\n",
    "def MSE (Y,Y_hat):\n",
    "    sr_train = (Y-Y_hat)**2\n",
    "    ssr = sr_train.sum()\n",
    "    asr = ssr/len(sr_train)\n",
    "    return asr\n",
    "\n",
    "asr = MSE(Y_train,Y_train_hat)\n",
    "\n",
    "print(\"\\nasr:\\n\", asr)\n",
    "\n",
    "\n",
    "# # TODO: test your model on testing data\n",
    "Y_test_hat = np.dot(X_test, theta)\n",
    "plot_XY_graph(X_test, Y_test, Y_test_hat)\n",
    "\n",
    "asr = MSE(Y_test, Y_test_hat)\n",
    "\n",
    "print(\"\\nasr:\\n\", asr)\n"
   ]
  },
  {
   "cell_type": "markdown",
   "metadata": {},
   "source": [
    "**Explain** what collinearity is.\n",
    "\n",
    "**Collinearity is a phenomenon that occurs when multiple predictor variables are similar(when two variables are the same, or one can be a combination of the other). This will cause the theta value to be off. There are infinite solutions and the computer doesn't know which one is correct.**"
   ]
  },
  {
   "cell_type": "markdown",
   "metadata": {},
   "source": [
    "**Write** the equation for Ridge Regression below. \n",
    "\n",
    "$$ \\theta =(\\Phi^{T}\\Phi+\\lambda I)^{-1}\\Phi^{T}y $$"
   ]
  },
  {
   "cell_type": "markdown",
   "metadata": {},
   "source": [
    "**Explain** what the purpose ridge regression and its advantages and disadvantages over OLS.\n",
    "\n",
    "**The purpose of ridge regression is to prevent collinearity by adding a penalty. This is also one of its main advantages. Besides that ridge regression also prevent overfitting. The disadvantage of ridge regression is that because it adds a bias, in some cases, it will be less accurate than OLS.**"
   ]
  },
  {
   "cell_type": "markdown",
   "metadata": {},
   "source": [
    "**Implement** your regression model with ridge regression below."
   ]
  },
  {
   "cell_type": "code",
   "execution_count": 14,
   "metadata": {},
   "outputs": [
    {
     "data": {
      "image/png": "[encoded data removed]",
      "text/plain": [
       "<Figure size 432x288 with 1 Axes>"
      ]
     },
     "metadata": {
      "needs_background": "light"
     },
     "output_type": "display_data"
    },
    {
     "name": "stdout",
     "output_type": "stream",
     "text": [
      "\n",
      "asr:\n",
      " 22.78515159288735\n"
     ]
    },
    {
     "data": {
      "image/png": "[encoded data removed]",
      "text/plain": [
       "<Figure size 432x288 with 1 Axes>"
      ]
     },
     "metadata": {
      "needs_background": "light"
     },
     "output_type": "display_data"
    },
    {
     "name": "stdout",
     "output_type": "stream",
     "text": [
      "\n",
      "asr:\n",
      " 24.392028457077814\n"
     ]
    }
   ],
   "source": [
    "# TODO: Create code for Ridge Regression here. DO NOT use any other libraries\n",
    "# TODO: Plot your regression line over the input points.\n",
    "\n",
    "def RR(X, y, ridge=0.001):\n",
    "    x_rows, x_cols = X.shape\n",
    "    return np.linalg.solve((np.dot(X.T, X) + ridge*np.identity(x_cols)), np.dot(X.T,y))\n",
    "\n",
    "\n",
    "# TODO: check against training data\n",
    "theta = RR(X_train,Y_train)\n",
    "Y_train_hat = np.dot(X_train, theta)\n",
    "plot_XY_graph(X_train, Y_train, Y_train_hat)\n",
    "asr = MSE(Y_train,Y_train_hat)\n",
    "\n",
    "print(\"\\nasr:\\n\", asr)\n",
    "\n",
    "\n",
    "# # TODO: test your model on testing data\n",
    "Y_test_hat = np.dot(X_test, theta)\n",
    "plot_XY_graph(X_test, Y_test, Y_test_hat)\n",
    "\n",
    "asr = MSE(Y_test, Y_test_hat)\n",
    "\n",
    "print(\"\\nasr:\\n\", asr)\n"
   ]
  },
  {
   "cell_type": "markdown",
   "metadata": {},
   "source": [
    "**Explain** the differences ridge regression created for theta compared to OLS, and why these differences even existed. Also try different values for the ridge parameters and describe how they effect your results.\n",
    "\n",
    "**The ridge regression have greater average squared residuals(ASR) on the traning data set compare to the OLS, but a lower ASR on the testing set. The difference exist because the ridge regression added a regularizers to provent the issue of colinarity and overfitting. This is also shown on our test, since the ridge regression have a better performance on the testing data. I trid setting the ridge parmater to 10000 and 0.000000001. When setting the ridge to large variable the regularizer weight is too high, which drastically increase the ASR to 1000+. When setting the ridge to a smaller variable, the regularizer weight it too low which cause the regularizer to be meaningless. The ASR with 0.000000001 is similar to OLS.**"
   ]
  },
  {
   "cell_type": "markdown",
   "metadata": {},
   "source": [
    "There are other regularizers other than ridge regression, such as LASSO. **Explain** the differences between LASSO and Ridge Regression and how it changes the solution mathematically.\n",
    "\n",
    "**Ridge Regression uses two norm regulator which could limits the magnitude of the coefficient, however the coeffieceint can never be zero. Whereas LASSO allow zero coefficeint, which could reduce the function varaibles and reduce the complexity.**"
   ]
  },
  {
   "cell_type": "code",
   "execution_count": 15,
   "metadata": {},
   "outputs": [
    {
     "data": {
      "image/png": "[encoded data removed]",
      "text/plain": [
       "<Figure size 432x288 with 1 Axes>"
      ]
     },
     "metadata": {
      "needs_background": "light"
     },
     "output_type": "display_data"
    },
    {
     "name": "stdout",
     "output_type": "stream",
     "text": [
      "\n",
      "asr:\n",
      " 7468581.40478333\n"
     ]
    },
    {
     "data": {
      "image/png": "[encoded data removed]",
      "text/plain": [
       "<Figure size 432x288 with 1 Axes>"
      ]
     },
     "metadata": {
      "needs_background": "light"
     },
     "output_type": "display_data"
    },
    {
     "name": "stdout",
     "output_type": "stream",
     "text": [
      "\n",
      "asr:\n",
      " 46064.39666956835\n"
     ]
    }
   ],
   "source": [
    "# TODO: Create code for LASSO here\n",
    "# TODO: Plot your regression line over the input points. \n",
    "from sklearn.linear_model import Lasso\n",
    "def LASSO(X, y, ridge= 0.001):\n",
    "    model = Lasso(alpha = ridge)\n",
    "    model.fit(X, y)\n",
    "    return model.coef_\n",
    "    \n",
    "    \n",
    "# TODO: check against training data\n",
    "theta = LASSO(X_train,Y_train)\n",
    "Y_train_hat = np.dot(X_train, theta)\n",
    "plot_XY_graph(X_train, Y_train, Y_train_hat)\n",
    "asr = MSE(Y_train,Y_train_hat)\n",
    "\n",
    "print(\"\\nasr:\\n\", asr)\n",
    "\n",
    "\n",
    "\n",
    "# TODO: check against testing data\n",
    "\n",
    "Y_test_hat = np.dot(X_test, theta)\n",
    "plot_XY_graph(X_test, Y_test, Y_test_hat)\n",
    "asr = np.square(np.subtract(Y_test,Y_test_hat)).mean()\n",
    "\n",
    "print(\"\\nasr:\\n\", asr)"
   ]
  },
  {
   "cell_type": "markdown",
   "metadata": {},
   "source": [
    "**Explain** the effect elastic nets had on your values for theta compared to OLS. Also try different values for the ridge parameters and describe how they effect your results.\n",
    "\n",
    "**Elastic nets gave a more reasonable value to the solution when compared to OlS, similar to LASSO and Ridge since they punish the solutions. The larger values used for the ridge parameter makes the solution closer to 0.**"
   ]
  },
  {
   "cell_type": "markdown",
   "metadata": {},
   "source": [
    "**Explain** the differences between LASSO, Ridge Regression and Elastic Nets and how it changes the solution mathematically.\n",
    "\n",
    "**They each punish the solutions differently. LASSO uses one norm, Ridge Regression uses two-norm, and Elastic Nets uses both. Ridge regression uses the two-norm which means it won't have any 0 for its values, whereas the LASSO can have 0 for its values. Since the Elastic Nets uses both, it is more widely usuable.**"
   ]
  },
  {
   "cell_type": "code",
   "execution_count": 16,
   "metadata": {},
   "outputs": [
    {
     "name": "stderr",
     "output_type": "stream",
     "text": [
      "/Users/jatinkulkarni/miniconda3/envs/fri_rl/lib/python3.7/site-packages/sklearn/linear_model/_coordinate_descent.py:476: ConvergenceWarning: Objective did not converge. You might want to increase the number of iterations. Duality gap: 837.1156596945323, tolerance: 373.2670911197955\n",
      "  positive)\n"
     ]
    },
    {
     "data": {
      "image/png": "[encoded data removed]",
      "text/plain": [
       "<Figure size 432x288 with 1 Axes>"
      ]
     },
     "metadata": {
      "needs_background": "light"
     },
     "output_type": "display_data"
    },
    {
     "name": "stdout",
     "output_type": "stream",
     "text": [
      "\n",
      "ssr:\n",
      " 746787805.3160005 \n",
      "asr:\n",
      " 7467878.053160004\n"
     ]
    },
    {
     "data": {
      "image/png": "[encoded data removed]",
      "text/plain": [
       "<Figure size 432x288 with 1 Axes>"
      ]
     },
     "metadata": {
      "needs_background": "light"
     },
     "output_type": "display_data"
    },
    {
     "name": "stdout",
     "output_type": "stream",
     "text": [
      "\n",
      "ssr:\n",
      " 460580416.14757085 \n",
      "asr:\n",
      " 4605804.161475709\n"
     ]
    }
   ],
   "source": [
    "# TODO: Create code for Elastic Nets here. You can use a library such as scipy\n",
    "# TODO: Plot your regression line over the input points.\n",
    "from sklearn.linear_model import ElasticNet\n",
    "def EN(X,y):\n",
    "    model = ElasticNet(random_state=0)\n",
    "    model.fit(X, y)\n",
    "#     y_plot = model.predict(X)\n",
    "#     plt.plot(X, y_plot)\n",
    "    \n",
    "    return model.coef_\n",
    "\n",
    "# TODO: check against training data\n",
    "theta = EN(X_train,Y_train)\n",
    "Y_train_hat = np.dot(X_train, theta)\n",
    "plot_XY_graph(X_train, Y_train, Y_train_hat)\n",
    "\n",
    "sr_train = (Y_train- Y_train_hat)**2\n",
    "ssr = sr_train.sum()\n",
    "asr = ssr/len(sr_train)\n",
    "print(\"\\nssr:\\n\", ssr,\"\\nasr:\\n\", asr)\n",
    "\n",
    "\n",
    "# TODO: check against testing data\n",
    "\n",
    "Y_test_hat = np.dot(X_test, theta)\n",
    "plot_XY_graph(X_test, Y_test, Y_test_hat)\n",
    "\n",
    "sr_test = (Y_test-Y_test_hat)**2\n",
    "ssr = sr_test.sum()\n",
    "asr = ssr/len(sr_test)\n",
    "print(\"\\nssr:\\n\", ssr,\"\\nasr:\\n\", asr)\n"
   ]
  },
  {
   "cell_type": "markdown",
   "metadata": {},
   "source": [
    "What is the purpose of a regularizer?\n",
    "\n",
    "**A regularizer regulates or punishes the solution to make the coefficients closer to zero to avoid the model overfitting the training data.**"
   ]
  },
  {
   "cell_type": "markdown",
   "metadata": {},
   "source": [
    "Give two examples where a regularizer would give more robust models.\n",
    "\n",
    "**Example 1: One example would be if someone is trying to figure out how much traffic there will be when leaving a festival. The features the person has are how large the crowd is and how many cars are in the parking log. Having more people at the festival strongly correlates to having more cars in the parking lot. A regularizer would give you a more accurate result rather than using OLS since there is collinearity present.\n",
    "Example 2: Another example would be trying to determine how busy a student is. The features in this case would be how many clases the student is taking and how much assignments the student has due. Both of these are linearly correlated so a regularizer would give a more accurate result.**"
   ]
  },
  {
   "cell_type": "markdown",
   "metadata": {},
   "source": [
    "Explain with reference to the dataset why a regularizer achieved better performance than OLS.\n",
    "\n",
    "**A regularizer achieved better performance than OLS because the amount spent on books ($X_{0}$), pencils ($X_{1}$), and food ($X_{2}$) are linearly related to the amount sutdetns spend on their electronics ($Y$). Since they are linearly related, the regularizers decrease the effect of collinearity when compared to OLS so the result are more accurate.**"
   ]
  },
  {
   "cell_type": "markdown",
   "metadata": {},
   "source": [
    "<hr class='light-separate' />"
   ]
  },
  {
   "cell_type": "markdown",
   "metadata": {},
   "source": [
    "Implement feature transformation to fit a line to the curve generated from the .csv file."
   ]
  },
  {
   "cell_type": "code",
   "execution_count": 17,
   "metadata": {},
   "outputs": [],
   "source": [
    "X = np.genfromtxt('feature_transform.csv', delimiter=',')\n",
    "y = X[:,2].reshape(500, 1)\n",
    "X = X[:,:2]"
   ]
  },
  {
   "cell_type": "code",
   "execution_count": 18,
   "metadata": {},
   "outputs": [
    {
     "data": {
      "image/png": "[encoded data removed]",
      "text/plain": [
       "<Figure size 432x288 with 1 Axes>"
      ]
     },
     "metadata": {
      "needs_background": "light"
     },
     "output_type": "display_data"
    }
   ],
   "source": [
    "# TODO: Write the lambda function phi which will transform X\n",
    "# TODO: Plot the transformation and the resulting line after transforming\n",
    "\n",
    "import matplotlib.pyplot as plt\n",
    "\n",
    "def phi(x, degree):\n",
    "    # construct X matrix\n",
    "    columns = []\n",
    "    n = len(x)\n",
    "    for i in range(degree + 1):\n",
    "        if i == 0:\n",
    "            columns.append(np.ones(n))\n",
    "        else:\n",
    "            columns.append(x**i)\n",
    "    X = np.matrix(columns).T\n",
    "    return X\n",
    "X_tran = phi(X[:,0],3)\n",
    "theta = OLS(X_tran,y)\n",
    "y_hat = np.dot(X_tran, theta)\n",
    "coef = np.array(theta).ravel()\n",
    "phi_plot = np.linspace(0, 1, 500)\n",
    "\n",
    "\n",
    "def poly_coefficients(x, coeffs):\n",
    "    k= len(coeffs)\n",
    "    y = 0\n",
    "    for i in range(k):\n",
    "        y += coeffs[i]*x**i\n",
    "    return y\n",
    "\n",
    "\n",
    "plt.plot(phi_plot, poly_coefficients(phi_plot,coef),color=(0.0,0.3,0.8))\n",
    "plt.scatter(X[:,0],y, color = (0.6,0.0,0.1))\n",
    "\n",
    "plt.xlabel('X')\n",
    "plt.ylabel('Y')\n",
    "plt.show()\n"
   ]
  },
  {
   "cell_type": "markdown",
   "metadata": {},
   "source": [
    "<hr class='light-separate' />"
   ]
  },
  {
   "cell_type": "markdown",
   "metadata": {},
   "source": [
    "Recall what you learned about polynomial regression and explain what is happening to the model as you increase the degrees. Run the cell below and use the slider to help you.\n",
    "\n",
    "**When the degree is between 0 and 9, as the degrees increase the regression line fits the graph better.The test error decreases. But after the degree larger than 9, as the degree increase the test error also increases. The predicted valye drastictly increases when x is greater than 35.**"
   ]
  },
  {
   "cell_type": "code",
   "execution_count": 19,
   "metadata": {},
   "outputs": [
    {
     "data": {
      "application/vnd.jupyter.widget-view+json": {
       "model_id": "22dd1463c4594aee861cfedc36d64700",
       "version_major": 2,
       "version_minor": 0
      },
      "text/plain": [
       "interactive(children=(IntSlider(value=1, description='degree', max=20, min=1), Output()), _dom_classes=('widge…"
      ]
     },
     "metadata": {},
     "output_type": "display_data"
    },
    {
     "data": {
      "text/plain": [
       "<function __main__.f(degree)>"
      ]
     },
     "execution_count": 19,
     "metadata": {},
     "output_type": "execute_result"
    }
   ],
   "source": [
    "# DO NOT ALTER\n",
    "\n",
    "import pandas as pd\n",
    "import ipywidgets as widgets\n",
    "from ipywidgets import interact\n",
    "from sklearn.model_selection import train_test_split\n",
    "from sklearn import datasets\n",
    "from sklearn.metrics import mean_squared_error\n",
    "from sklearn.preprocessing import PolynomialFeatures\n",
    "from sklearn.linear_model import LinearRegression\n",
    "from sklearn.pipeline import make_pipeline\n",
    "\n",
    "boston = datasets.load_boston()\n",
    "data = pd.DataFrame(boston.data,columns=boston.feature_names)\n",
    "data = pd.concat([data,pd.Series(boston.target,name='MEDV')],axis=1)\n",
    "\n",
    "X = data[['LSTAT']].values\n",
    "y = data['MEDV']\n",
    "\n",
    "x_train, x_test, y_train, y_test = train_test_split(X,y,test_size=0.3, random_state=42, shuffle=True)\n",
    "\n",
    "temp = pd.DataFrame({'x':x_train.reshape(1, 354)[0], 'y':y_train})\n",
    "temp = temp.sort_values('x')\n",
    "x_train = temp['x'].values.reshape(354,1)\n",
    "y_train = temp['y'].values\n",
    "\n",
    "temp = pd.DataFrame({'x':x_test.reshape(1, 152)[0], 'y':y_test})\n",
    "temp = temp.sort_values('x')\n",
    "x_test = temp['x'].values.reshape(152,1)\n",
    "y_test = temp['y'].values\n",
    "\n",
    "def f(degree):\n",
    "    model = make_pipeline(PolynomialFeatures(degree), LinearRegression())\n",
    "    model.fit(x_train,y_train)\n",
    "    y_plot = model.predict(x_test)\n",
    "    \n",
    "    plt.scatter(x_train, y_train, s=10, color='red', alpha=.3)\n",
    "    plt.scatter(x_test, y_test, s=10)\n",
    "\n",
    "    test_sr = (y_test - y_plot)**2\n",
    "    test_ssr = test_sr.sum()\n",
    "    test_asr = test_ssr/len(test_sr)\n",
    "    \n",
    "    y_plot_train = model.predict(x_train)\n",
    "    train_sr = (y_train - y_plot_train)**2\n",
    "    train_ssr = train_sr.sum()\n",
    "    train_asr = train_ssr/len(train_sr)\n",
    "    \n",
    "    plt.plot(x_test, y_plot, label=\"degree %d\" % degree + '; Test Error: %.2f' % test_asr + '; Train Error: %.2f' % train_asr, color='green')\n",
    "    plt.legend(loc='upper right')\n",
    "    plt.show()\n",
    "    \n",
    "interact(f, degree = widgets.IntSlider(min=1, max=20, step=1, value=1))"
   ]
  },
  {
   "cell_type": "code",
   "execution_count": null,
   "metadata": {},
   "outputs": [],
   "source": []
  },
  {
   "cell_type": "code",
   "execution_count": null,
   "metadata": {},
   "outputs": [],
   "source": []
  }
 ],
 "metadata": {
  "kernelspec": {
   "display_name": "Python 3",
   "language": "python",
   "name": "python3"
  },
  "language_info": {
   "codemirror_mode": {
    "name": "ipython",
    "version": 3
   },
   "file_extension": ".py",
   "mimetype": "text/x-python",
   "name": "python",
   "nbconvert_exporter": "python",
   "pygments_lexer": "ipython3",
   "version": "3.7.9"
  }
 },
 "nbformat": 4,
 "nbformat_minor": 4
}
